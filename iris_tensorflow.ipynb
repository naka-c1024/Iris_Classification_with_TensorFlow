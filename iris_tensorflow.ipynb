{
  "nbformat": 4,
  "nbformat_minor": 0,
  "metadata": {
    "colab": {
      "name": "iris_tensorflow.ipynb",
      "provenance": [],
      "collapsed_sections": [],
      "authorship_tag": "ABX9TyN+Q38JwVL6MIIvhoix9kh+",
      "include_colab_link": true
    },
    "kernelspec": {
      "name": "python3",
      "display_name": "Python 3"
    },
    "language_info": {
      "name": "python"
    },
    "accelerator": "GPU"
  },
  "cells": [
    {
      "cell_type": "markdown",
      "metadata": {
        "id": "view-in-github",
        "colab_type": "text"
      },
      "source": [
        "<a href=\"https://colab.research.google.com/github/naka-c1024/Iris_Classification_with_TensorFlow/blob/main/iris_tensorflow.ipynb\" target=\"_parent\"><img src=\"https://colab.research.google.com/assets/colab-badge.svg\" alt=\"Open In Colab\"/></a>"
      ]
    },
    {
      "cell_type": "markdown",
      "source": [
        "#7.2 データやライブラリのダウンロード"
      ],
      "metadata": {
        "id": "d-TNcMesunm_"
      }
    },
    {
      "cell_type": "code",
      "execution_count": 65,
      "metadata": {
        "id": "QvxVvE53aoko"
      },
      "outputs": [],
      "source": [
        "from sklearn.datasets import load_iris\n",
        "iris = load_iris()"
      ]
    },
    {
      "cell_type": "code",
      "source": [
        "dir(iris)"
      ],
      "metadata": {
        "colab": {
          "base_uri": "https://localhost:8080/"
        },
        "id": "FXqi3mzsyHFZ",
        "outputId": "093273e8-8a79-4148-8202-4d77d31ec380"
      },
      "execution_count": 66,
      "outputs": [
        {
          "output_type": "execute_result",
          "data": {
            "text/plain": [
              "['DESCR',\n",
              " 'data',\n",
              " 'data_module',\n",
              " 'feature_names',\n",
              " 'filename',\n",
              " 'frame',\n",
              " 'target',\n",
              " 'target_names']"
            ]
          },
          "metadata": {},
          "execution_count": 66
        }
      ]
    },
    {
      "cell_type": "code",
      "source": [
        "print(iris.DESCR)"
      ],
      "metadata": {
        "colab": {
          "base_uri": "https://localhost:8080/"
        },
        "id": "Egur0ujvyODS",
        "outputId": "7d89da3b-72f4-4ad8-e03b-0e1021c44e5f"
      },
      "execution_count": 67,
      "outputs": [
        {
          "output_type": "stream",
          "name": "stdout",
          "text": [
            ".. _iris_dataset:\n",
            "\n",
            "Iris plants dataset\n",
            "--------------------\n",
            "\n",
            "**Data Set Characteristics:**\n",
            "\n",
            "    :Number of Instances: 150 (50 in each of three classes)\n",
            "    :Number of Attributes: 4 numeric, predictive attributes and the class\n",
            "    :Attribute Information:\n",
            "        - sepal length in cm\n",
            "        - sepal width in cm\n",
            "        - petal length in cm\n",
            "        - petal width in cm\n",
            "        - class:\n",
            "                - Iris-Setosa\n",
            "                - Iris-Versicolour\n",
            "                - Iris-Virginica\n",
            "                \n",
            "    :Summary Statistics:\n",
            "\n",
            "    ============== ==== ==== ======= ===== ====================\n",
            "                    Min  Max   Mean    SD   Class Correlation\n",
            "    ============== ==== ==== ======= ===== ====================\n",
            "    sepal length:   4.3  7.9   5.84   0.83    0.7826\n",
            "    sepal width:    2.0  4.4   3.05   0.43   -0.4194\n",
            "    petal length:   1.0  6.9   3.76   1.76    0.9490  (high!)\n",
            "    petal width:    0.1  2.5   1.20   0.76    0.9565  (high!)\n",
            "    ============== ==== ==== ======= ===== ====================\n",
            "\n",
            "    :Missing Attribute Values: None\n",
            "    :Class Distribution: 33.3% for each of 3 classes.\n",
            "    :Creator: R.A. Fisher\n",
            "    :Donor: Michael Marshall (MARSHALL%PLU@io.arc.nasa.gov)\n",
            "    :Date: July, 1988\n",
            "\n",
            "The famous Iris database, first used by Sir R.A. Fisher. The dataset is taken\n",
            "from Fisher's paper. Note that it's the same as in R, but not as in the UCI\n",
            "Machine Learning Repository, which has two wrong data points.\n",
            "\n",
            "This is perhaps the best known database to be found in the\n",
            "pattern recognition literature.  Fisher's paper is a classic in the field and\n",
            "is referenced frequently to this day.  (See Duda & Hart, for example.)  The\n",
            "data set contains 3 classes of 50 instances each, where each class refers to a\n",
            "type of iris plant.  One class is linearly separable from the other 2; the\n",
            "latter are NOT linearly separable from each other.\n",
            "\n",
            ".. topic:: References\n",
            "\n",
            "   - Fisher, R.A. \"The use of multiple measurements in taxonomic problems\"\n",
            "     Annual Eugenics, 7, Part II, 179-188 (1936); also in \"Contributions to\n",
            "     Mathematical Statistics\" (John Wiley, NY, 1950).\n",
            "   - Duda, R.O., & Hart, P.E. (1973) Pattern Classification and Scene Analysis.\n",
            "     (Q327.D83) John Wiley & Sons.  ISBN 0-471-22361-1.  See page 218.\n",
            "   - Dasarathy, B.V. (1980) \"Nosing Around the Neighborhood: A New System\n",
            "     Structure and Classification Rule for Recognition in Partially Exposed\n",
            "     Environments\".  IEEE Transactions on Pattern Analysis and Machine\n",
            "     Intelligence, Vol. PAMI-2, No. 1, 67-71.\n",
            "   - Gates, G.W. (1972) \"The Reduced Nearest Neighbor Rule\".  IEEE Transactions\n",
            "     on Information Theory, May 1972, 431-433.\n",
            "   - See also: 1988 MLC Proceedings, 54-64.  Cheeseman et al\"s AUTOCLASS II\n",
            "     conceptual clustering system finds 3 classes in the data.\n",
            "   - Many, many more ...\n"
          ]
        }
      ]
    },
    {
      "cell_type": "code",
      "source": [
        "list(iris.target_names)"
      ],
      "metadata": {
        "id": "qtipS3NzbFeD",
        "colab": {
          "base_uri": "https://localhost:8080/"
        },
        "outputId": "71de9667-51a1-46d8-f318-a5ad48020e65"
      },
      "execution_count": 68,
      "outputs": [
        {
          "output_type": "execute_result",
          "data": {
            "text/plain": [
              "['setosa', 'versicolor', 'virginica']"
            ]
          },
          "metadata": {},
          "execution_count": 68
        }
      ]
    },
    {
      "cell_type": "code",
      "source": [
        "iris.data.shape"
      ],
      "metadata": {
        "colab": {
          "base_uri": "https://localhost:8080/"
        },
        "id": "VUh1IsXOzBkX",
        "outputId": "871fdef6-2c78-42d0-ecf9-5a498e7e4b97"
      },
      "execution_count": 69,
      "outputs": [
        {
          "output_type": "execute_result",
          "data": {
            "text/plain": [
              "(150, 4)"
            ]
          },
          "metadata": {},
          "execution_count": 69
        }
      ]
    },
    {
      "cell_type": "code",
      "source": [
        "iris.data"
      ],
      "metadata": {
        "colab": {
          "base_uri": "https://localhost:8080/"
        },
        "id": "Dqhb-RxYzHi3",
        "outputId": "6ec5251d-1e1a-43fb-a913-06fb7c6c0b6a"
      },
      "execution_count": 70,
      "outputs": [
        {
          "output_type": "execute_result",
          "data": {
            "text/plain": [
              "array([[5.1, 3.5, 1.4, 0.2],\n",
              "       [4.9, 3. , 1.4, 0.2],\n",
              "       [4.7, 3.2, 1.3, 0.2],\n",
              "       [4.6, 3.1, 1.5, 0.2],\n",
              "       [5. , 3.6, 1.4, 0.2],\n",
              "       [5.4, 3.9, 1.7, 0.4],\n",
              "       [4.6, 3.4, 1.4, 0.3],\n",
              "       [5. , 3.4, 1.5, 0.2],\n",
              "       [4.4, 2.9, 1.4, 0.2],\n",
              "       [4.9, 3.1, 1.5, 0.1],\n",
              "       [5.4, 3.7, 1.5, 0.2],\n",
              "       [4.8, 3.4, 1.6, 0.2],\n",
              "       [4.8, 3. , 1.4, 0.1],\n",
              "       [4.3, 3. , 1.1, 0.1],\n",
              "       [5.8, 4. , 1.2, 0.2],\n",
              "       [5.7, 4.4, 1.5, 0.4],\n",
              "       [5.4, 3.9, 1.3, 0.4],\n",
              "       [5.1, 3.5, 1.4, 0.3],\n",
              "       [5.7, 3.8, 1.7, 0.3],\n",
              "       [5.1, 3.8, 1.5, 0.3],\n",
              "       [5.4, 3.4, 1.7, 0.2],\n",
              "       [5.1, 3.7, 1.5, 0.4],\n",
              "       [4.6, 3.6, 1. , 0.2],\n",
              "       [5.1, 3.3, 1.7, 0.5],\n",
              "       [4.8, 3.4, 1.9, 0.2],\n",
              "       [5. , 3. , 1.6, 0.2],\n",
              "       [5. , 3.4, 1.6, 0.4],\n",
              "       [5.2, 3.5, 1.5, 0.2],\n",
              "       [5.2, 3.4, 1.4, 0.2],\n",
              "       [4.7, 3.2, 1.6, 0.2],\n",
              "       [4.8, 3.1, 1.6, 0.2],\n",
              "       [5.4, 3.4, 1.5, 0.4],\n",
              "       [5.2, 4.1, 1.5, 0.1],\n",
              "       [5.5, 4.2, 1.4, 0.2],\n",
              "       [4.9, 3.1, 1.5, 0.2],\n",
              "       [5. , 3.2, 1.2, 0.2],\n",
              "       [5.5, 3.5, 1.3, 0.2],\n",
              "       [4.9, 3.6, 1.4, 0.1],\n",
              "       [4.4, 3. , 1.3, 0.2],\n",
              "       [5.1, 3.4, 1.5, 0.2],\n",
              "       [5. , 3.5, 1.3, 0.3],\n",
              "       [4.5, 2.3, 1.3, 0.3],\n",
              "       [4.4, 3.2, 1.3, 0.2],\n",
              "       [5. , 3.5, 1.6, 0.6],\n",
              "       [5.1, 3.8, 1.9, 0.4],\n",
              "       [4.8, 3. , 1.4, 0.3],\n",
              "       [5.1, 3.8, 1.6, 0.2],\n",
              "       [4.6, 3.2, 1.4, 0.2],\n",
              "       [5.3, 3.7, 1.5, 0.2],\n",
              "       [5. , 3.3, 1.4, 0.2],\n",
              "       [7. , 3.2, 4.7, 1.4],\n",
              "       [6.4, 3.2, 4.5, 1.5],\n",
              "       [6.9, 3.1, 4.9, 1.5],\n",
              "       [5.5, 2.3, 4. , 1.3],\n",
              "       [6.5, 2.8, 4.6, 1.5],\n",
              "       [5.7, 2.8, 4.5, 1.3],\n",
              "       [6.3, 3.3, 4.7, 1.6],\n",
              "       [4.9, 2.4, 3.3, 1. ],\n",
              "       [6.6, 2.9, 4.6, 1.3],\n",
              "       [5.2, 2.7, 3.9, 1.4],\n",
              "       [5. , 2. , 3.5, 1. ],\n",
              "       [5.9, 3. , 4.2, 1.5],\n",
              "       [6. , 2.2, 4. , 1. ],\n",
              "       [6.1, 2.9, 4.7, 1.4],\n",
              "       [5.6, 2.9, 3.6, 1.3],\n",
              "       [6.7, 3.1, 4.4, 1.4],\n",
              "       [5.6, 3. , 4.5, 1.5],\n",
              "       [5.8, 2.7, 4.1, 1. ],\n",
              "       [6.2, 2.2, 4.5, 1.5],\n",
              "       [5.6, 2.5, 3.9, 1.1],\n",
              "       [5.9, 3.2, 4.8, 1.8],\n",
              "       [6.1, 2.8, 4. , 1.3],\n",
              "       [6.3, 2.5, 4.9, 1.5],\n",
              "       [6.1, 2.8, 4.7, 1.2],\n",
              "       [6.4, 2.9, 4.3, 1.3],\n",
              "       [6.6, 3. , 4.4, 1.4],\n",
              "       [6.8, 2.8, 4.8, 1.4],\n",
              "       [6.7, 3. , 5. , 1.7],\n",
              "       [6. , 2.9, 4.5, 1.5],\n",
              "       [5.7, 2.6, 3.5, 1. ],\n",
              "       [5.5, 2.4, 3.8, 1.1],\n",
              "       [5.5, 2.4, 3.7, 1. ],\n",
              "       [5.8, 2.7, 3.9, 1.2],\n",
              "       [6. , 2.7, 5.1, 1.6],\n",
              "       [5.4, 3. , 4.5, 1.5],\n",
              "       [6. , 3.4, 4.5, 1.6],\n",
              "       [6.7, 3.1, 4.7, 1.5],\n",
              "       [6.3, 2.3, 4.4, 1.3],\n",
              "       [5.6, 3. , 4.1, 1.3],\n",
              "       [5.5, 2.5, 4. , 1.3],\n",
              "       [5.5, 2.6, 4.4, 1.2],\n",
              "       [6.1, 3. , 4.6, 1.4],\n",
              "       [5.8, 2.6, 4. , 1.2],\n",
              "       [5. , 2.3, 3.3, 1. ],\n",
              "       [5.6, 2.7, 4.2, 1.3],\n",
              "       [5.7, 3. , 4.2, 1.2],\n",
              "       [5.7, 2.9, 4.2, 1.3],\n",
              "       [6.2, 2.9, 4.3, 1.3],\n",
              "       [5.1, 2.5, 3. , 1.1],\n",
              "       [5.7, 2.8, 4.1, 1.3],\n",
              "       [6.3, 3.3, 6. , 2.5],\n",
              "       [5.8, 2.7, 5.1, 1.9],\n",
              "       [7.1, 3. , 5.9, 2.1],\n",
              "       [6.3, 2.9, 5.6, 1.8],\n",
              "       [6.5, 3. , 5.8, 2.2],\n",
              "       [7.6, 3. , 6.6, 2.1],\n",
              "       [4.9, 2.5, 4.5, 1.7],\n",
              "       [7.3, 2.9, 6.3, 1.8],\n",
              "       [6.7, 2.5, 5.8, 1.8],\n",
              "       [7.2, 3.6, 6.1, 2.5],\n",
              "       [6.5, 3.2, 5.1, 2. ],\n",
              "       [6.4, 2.7, 5.3, 1.9],\n",
              "       [6.8, 3. , 5.5, 2.1],\n",
              "       [5.7, 2.5, 5. , 2. ],\n",
              "       [5.8, 2.8, 5.1, 2.4],\n",
              "       [6.4, 3.2, 5.3, 2.3],\n",
              "       [6.5, 3. , 5.5, 1.8],\n",
              "       [7.7, 3.8, 6.7, 2.2],\n",
              "       [7.7, 2.6, 6.9, 2.3],\n",
              "       [6. , 2.2, 5. , 1.5],\n",
              "       [6.9, 3.2, 5.7, 2.3],\n",
              "       [5.6, 2.8, 4.9, 2. ],\n",
              "       [7.7, 2.8, 6.7, 2. ],\n",
              "       [6.3, 2.7, 4.9, 1.8],\n",
              "       [6.7, 3.3, 5.7, 2.1],\n",
              "       [7.2, 3.2, 6. , 1.8],\n",
              "       [6.2, 2.8, 4.8, 1.8],\n",
              "       [6.1, 3. , 4.9, 1.8],\n",
              "       [6.4, 2.8, 5.6, 2.1],\n",
              "       [7.2, 3. , 5.8, 1.6],\n",
              "       [7.4, 2.8, 6.1, 1.9],\n",
              "       [7.9, 3.8, 6.4, 2. ],\n",
              "       [6.4, 2.8, 5.6, 2.2],\n",
              "       [6.3, 2.8, 5.1, 1.5],\n",
              "       [6.1, 2.6, 5.6, 1.4],\n",
              "       [7.7, 3. , 6.1, 2.3],\n",
              "       [6.3, 3.4, 5.6, 2.4],\n",
              "       [6.4, 3.1, 5.5, 1.8],\n",
              "       [6. , 3. , 4.8, 1.8],\n",
              "       [6.9, 3.1, 5.4, 2.1],\n",
              "       [6.7, 3.1, 5.6, 2.4],\n",
              "       [6.9, 3.1, 5.1, 2.3],\n",
              "       [5.8, 2.7, 5.1, 1.9],\n",
              "       [6.8, 3.2, 5.9, 2.3],\n",
              "       [6.7, 3.3, 5.7, 2.5],\n",
              "       [6.7, 3. , 5.2, 2.3],\n",
              "       [6.3, 2.5, 5. , 1.9],\n",
              "       [6.5, 3. , 5.2, 2. ],\n",
              "       [6.2, 3.4, 5.4, 2.3],\n",
              "       [5.9, 3. , 5.1, 1.8]])"
            ]
          },
          "metadata": {},
          "execution_count": 70
        }
      ]
    },
    {
      "cell_type": "code",
      "source": [
        "iris.feature_names"
      ],
      "metadata": {
        "colab": {
          "base_uri": "https://localhost:8080/"
        },
        "id": "W3Ek5UedzW0Q",
        "outputId": "7a7247db-18a5-4cb7-9113-2d419673b088"
      },
      "execution_count": 71,
      "outputs": [
        {
          "output_type": "execute_result",
          "data": {
            "text/plain": [
              "['sepal length (cm)',\n",
              " 'sepal width (cm)',\n",
              " 'petal length (cm)',\n",
              " 'petal width (cm)']"
            ]
          },
          "metadata": {},
          "execution_count": 71
        }
      ]
    },
    {
      "cell_type": "code",
      "source": [
        "iris.target.shape"
      ],
      "metadata": {
        "colab": {
          "base_uri": "https://localhost:8080/"
        },
        "id": "l67w8pX2zLBp",
        "outputId": "b6cbc36a-eaf1-4ba8-c072-cb8a76600ab1"
      },
      "execution_count": 72,
      "outputs": [
        {
          "output_type": "execute_result",
          "data": {
            "text/plain": [
              "(150,)"
            ]
          },
          "metadata": {},
          "execution_count": 72
        }
      ]
    },
    {
      "cell_type": "code",
      "source": [
        "iris.target"
      ],
      "metadata": {
        "colab": {
          "base_uri": "https://localhost:8080/"
        },
        "id": "CaolTSjGzOfz",
        "outputId": "e4685aa6-fc26-49bd-e047-e51dbcd0c6f2"
      },
      "execution_count": 73,
      "outputs": [
        {
          "output_type": "execute_result",
          "data": {
            "text/plain": [
              "array([0, 0, 0, 0, 0, 0, 0, 0, 0, 0, 0, 0, 0, 0, 0, 0, 0, 0, 0, 0, 0, 0,\n",
              "       0, 0, 0, 0, 0, 0, 0, 0, 0, 0, 0, 0, 0, 0, 0, 0, 0, 0, 0, 0, 0, 0,\n",
              "       0, 0, 0, 0, 0, 0, 1, 1, 1, 1, 1, 1, 1, 1, 1, 1, 1, 1, 1, 1, 1, 1,\n",
              "       1, 1, 1, 1, 1, 1, 1, 1, 1, 1, 1, 1, 1, 1, 1, 1, 1, 1, 1, 1, 1, 1,\n",
              "       1, 1, 1, 1, 1, 1, 1, 1, 1, 1, 1, 1, 2, 2, 2, 2, 2, 2, 2, 2, 2, 2,\n",
              "       2, 2, 2, 2, 2, 2, 2, 2, 2, 2, 2, 2, 2, 2, 2, 2, 2, 2, 2, 2, 2, 2,\n",
              "       2, 2, 2, 2, 2, 2, 2, 2, 2, 2, 2, 2, 2, 2, 2, 2, 2, 2])"
            ]
          },
          "metadata": {},
          "execution_count": 73
        }
      ]
    },
    {
      "cell_type": "code",
      "source": [
        "import matplotlib.pyplot as plt\n",
        "\n",
        "x = iris.data\n",
        "y = iris.target\n",
        "\n",
        "plt.scatter(x[:50, 0], x[:50, 1], color='r', marker='o', label='setosa')\n",
        "plt.scatter(x[50:100, 0], x[50:100, 1], color='g', marker='+', label='versicolor')\n",
        "plt.scatter(x[100:, 0], x[100:, 1], color='b', marker='x', label='virginica')\n",
        "plt.title(\"Iris Plants Database\")\n",
        "plt.xlabel(\"sepal length(cm)\")\n",
        "plt.ylabel(\"sepal width(cm)\")\n",
        "plt.legend()\n",
        "plt.show"
      ],
      "metadata": {
        "colab": {
          "base_uri": "https://localhost:8080/",
          "height": 313
        },
        "id": "pUOM31Wbzvez",
        "outputId": "453f6837-d430-4904-c577-07068c77e078"
      },
      "execution_count": 74,
      "outputs": [
        {
          "output_type": "execute_result",
          "data": {
            "text/plain": [
              "<function matplotlib.pyplot.show>"
            ]
          },
          "metadata": {},
          "execution_count": 74
        },
        {
          "output_type": "display_data",
          "data": {
            "image/png": "[encoded data removed]",
            "text/plain": [
              "<Figure size 432x288 with 1 Axes>"
            ]
          },
          "metadata": {
            "needs_background": "light"
          }
        }
      ]
    },
    {
      "cell_type": "markdown",
      "source": [
        "# ロード"
      ],
      "metadata": {
        "id": "5OvcUdusQPEL"
      }
    },
    {
      "cell_type": "code",
      "source": [
        "import tensorflow as tf\n",
        "from tensorflow import keras\n",
        "print(tf.__version__)\n",
        "tf.random.set_seed(1)"
      ],
      "metadata": {
        "id": "w82YdfDVcTVr",
        "colab": {
          "base_uri": "https://localhost:8080/"
        },
        "outputId": "9d3c74a2-3a48-45ea-ffd5-2e58c474ecca"
      },
      "execution_count": 75,
      "outputs": [
        {
          "output_type": "stream",
          "name": "stdout",
          "text": [
            "2.7.0\n"
          ]
        }
      ]
    },
    {
      "cell_type": "markdown",
      "source": [
        "#7.3 データの分割とニューラルネットワークの設定"
      ],
      "metadata": {
        "id": "n0GrYya-u4iz"
      }
    },
    {
      "cell_type": "markdown",
      "source": [
        "##7.3.1 データの分割"
      ],
      "metadata": {
        "id": "wpVRUKByvBUB"
      }
    },
    {
      "cell_type": "code",
      "source": [
        "import random\n",
        "\n",
        "random.seed(12345)\n",
        "Ndata = len(iris.data)  # データの総数を調べている (150個)\n",
        "print(f\"Ndata={Ndata}\")\n",
        "idxr = [k for k in range(Ndata)]\n",
        "print(idxr)  # 0 から 149 まで順番が正しく出ているかチェック\n",
        "random.shuffle(idxr)\n",
        "print(idxr)"
      ],
      "metadata": {
        "id": "0riKXrYzvJQ4",
        "colab": {
          "base_uri": "https://localhost:8080/"
        },
        "outputId": "fae225df-734b-4e39-85cc-92d2735ac143"
      },
      "execution_count": 76,
      "outputs": [
        {
          "output_type": "stream",
          "name": "stdout",
          "text": [
            "Ndata=150\n",
            "[0, 1, 2, 3, 4, 5, 6, 7, 8, 9, 10, 11, 12, 13, 14, 15, 16, 17, 18, 19, 20, 21, 22, 23, 24, 25, 26, 27, 28, 29, 30, 31, 32, 33, 34, 35, 36, 37, 38, 39, 40, 41, 42, 43, 44, 45, 46, 47, 48, 49, 50, 51, 52, 53, 54, 55, 56, 57, 58, 59, 60, 61, 62, 63, 64, 65, 66, 67, 68, 69, 70, 71, 72, 73, 74, 75, 76, 77, 78, 79, 80, 81, 82, 83, 84, 85, 86, 87, 88, 89, 90, 91, 92, 93, 94, 95, 96, 97, 98, 99, 100, 101, 102, 103, 104, 105, 106, 107, 108, 109, 110, 111, 112, 113, 114, 115, 116, 117, 118, 119, 120, 121, 122, 123, 124, 125, 126, 127, 128, 129, 130, 131, 132, 133, 134, 135, 136, 137, 138, 139, 140, 141, 142, 143, 144, 145, 146, 147, 148, 149]\n",
            "[109, 78, 108, 60, 93, 46, 14, 59, 118, 8, 18, 96, 77, 62, 104, 25, 99, 133, 130, 82, 80, 148, 17, 4, 34, 101, 33, 81, 126, 61, 28, 89, 132, 79, 9, 68, 64, 54, 149, 35, 26, 136, 70, 140, 40, 57, 120, 39, 30, 119, 139, 113, 102, 103, 86, 45, 72, 114, 50, 11, 122, 51, 24, 10, 56, 7, 6, 117, 124, 145, 112, 121, 144, 137, 91, 128, 1, 38, 21, 92, 16, 138, 55, 75, 32, 100, 85, 71, 27, 63, 15, 97, 5, 131, 135, 147, 67, 29, 127, 146, 134, 73, 87, 13, 116, 83, 12, 36, 22, 74, 98, 20, 143, 84, 115, 0, 53, 141, 88, 65, 123, 125, 58, 3, 142, 43, 107, 48, 19, 52, 37, 42, 129, 105, 23, 90, 47, 44, 66, 110, 31, 95, 41, 111, 69, 49, 94, 76, 2, 106]\n"
          ]
        }
      ]
    },
    {
      "cell_type": "code",
      "source": [
        "Ndata_train=int(Ndata*0.5)  # 分割の割合を指定\n",
        "print(f\"# of training data = {Ndata_train}\")\n",
        "print(f\"# of validation data = {Ndata-Ndata_train}\")\n",
        "\n",
        "train_data = iris.data[idxr[:Ndata_train]]  # 訓練データ\n",
        "train_labels = iris.target[idxr[:Ndata_train]]  # 訓練データの教師ラベル\n",
        "\n",
        "val_data = iris.data[idxr[Ndata_train:]]  # 検証データ\n",
        "val_labels = iris.target[idxr[Ndata_train:]]  # 検証データの教師ラベル"
      ],
      "metadata": {
        "id": "B4gKpxIlv2-g",
        "colab": {
          "base_uri": "https://localhost:8080/"
        },
        "outputId": "e5c7553e-f8c1-4293-8288-cd6611920204"
      },
      "execution_count": 77,
      "outputs": [
        {
          "output_type": "stream",
          "name": "stdout",
          "text": [
            "# of training data = 75\n",
            "# of validation data = 75\n"
          ]
        }
      ]
    },
    {
      "cell_type": "markdown",
      "source": [
        "##7.3.2 ニューラルネットワークの設計"
      ],
      "metadata": {
        "id": "3v8C8DFtxRdy"
      }
    },
    {
      "cell_type": "code",
      "source": [
        "model = keras.Sequential([\n",
        "    keras.layers.Dense(4, activation='relu'),\n",
        "    keras.layers.Dense(10, activation='relu'),\n",
        "    keras.layers.Dense(10, activation='relu'),\n",
        "    keras.layers.Dense(3, activation='softmax')\n",
        "])"
      ],
      "metadata": {
        "id": "qJQzdeHnxVxt"
      },
      "execution_count": 78,
      "outputs": []
    },
    {
      "cell_type": "markdown",
      "source": [
        "#7.4 学習"
      ],
      "metadata": {
        "id": "7EgVC2eVjdPl"
      }
    },
    {
      "cell_type": "code",
      "source": [
        "model.compile(optimizer='SGD',\n",
        "              loss='sparse_categorical_crossentropy',\n",
        "              metrics=['accuracy'])  # 分類の精度を評価する"
      ],
      "metadata": {
        "id": "lZZbXjCujinj"
      },
      "execution_count": 79,
      "outputs": []
    },
    {
      "cell_type": "code",
      "source": [
        "training_history = model.fit(train_data, train_labels,\n",
        "                             validation_data=(val_data, val_labels),\n",
        "                             epochs=30,\n",
        "                             batch_size = Ndata_train//10,\n",
        "                             verbose=1)"
      ],
      "metadata": {
        "id": "IO_9hpAA84cg",
        "colab": {
          "base_uri": "https://localhost:8080/"
        },
        "outputId": "7d513731-23a5-48ba-b096-5d7dd6731c54"
      },
      "execution_count": 80,
      "outputs": [
        {
          "output_type": "stream",
          "name": "stdout",
          "text": [
            "Epoch 1/30\n",
            "11/11 [==============================] - 1s 18ms/step - loss: 1.1173 - accuracy: 0.3600 - val_loss: 1.0531 - val_accuracy: 0.3067\n",
            "Epoch 2/30\n",
            "11/11 [==============================] - 0s 6ms/step - loss: 1.0454 - accuracy: 0.3467 - val_loss: 1.0474 - val_accuracy: 0.3867\n",
            "Epoch 3/30\n",
            "11/11 [==============================] - 0s 5ms/step - loss: 1.0529 - accuracy: 0.3733 - val_loss: 1.0373 - val_accuracy: 0.5067\n",
            "Epoch 4/30\n",
            "11/11 [==============================] - 0s 6ms/step - loss: 1.0327 - accuracy: 0.4800 - val_loss: 1.0412 - val_accuracy: 0.2933\n",
            "Epoch 5/30\n",
            "11/11 [==============================] - 0s 5ms/step - loss: 1.0192 - accuracy: 0.4000 - val_loss: 1.0082 - val_accuracy: 0.6267\n",
            "Epoch 6/30\n",
            "11/11 [==============================] - 0s 6ms/step - loss: 1.0070 - accuracy: 0.4400 - val_loss: 0.9970 - val_accuracy: 0.6000\n",
            "Epoch 7/30\n",
            "11/11 [==============================] - 0s 6ms/step - loss: 0.9836 - accuracy: 0.5067 - val_loss: 0.9752 - val_accuracy: 0.6533\n",
            "Epoch 8/30\n",
            "11/11 [==============================] - 0s 6ms/step - loss: 0.9609 - accuracy: 0.6400 - val_loss: 0.9605 - val_accuracy: 0.6533\n",
            "Epoch 9/30\n",
            "11/11 [==============================] - 0s 6ms/step - loss: 0.9511 - accuracy: 0.6400 - val_loss: 0.9290 - val_accuracy: 0.6667\n",
            "Epoch 10/30\n",
            "11/11 [==============================] - 0s 5ms/step - loss: 0.9169 - accuracy: 0.6667 - val_loss: 0.9323 - val_accuracy: 0.6533\n",
            "Epoch 11/30\n",
            "11/11 [==============================] - 0s 6ms/step - loss: 0.8985 - accuracy: 0.6400 - val_loss: 0.8668 - val_accuracy: 0.6667\n",
            "Epoch 12/30\n",
            "11/11 [==============================] - 0s 6ms/step - loss: 0.8580 - accuracy: 0.6667 - val_loss: 0.8430 - val_accuracy: 0.6533\n",
            "Epoch 13/30\n",
            "11/11 [==============================] - 0s 6ms/step - loss: 0.8269 - accuracy: 0.6667 - val_loss: 0.8033 - val_accuracy: 0.6667\n",
            "Epoch 14/30\n",
            "11/11 [==============================] - 0s 6ms/step - loss: 0.7882 - accuracy: 0.6667 - val_loss: 0.7800 - val_accuracy: 0.6667\n",
            "Epoch 15/30\n",
            "11/11 [==============================] - 0s 6ms/step - loss: 0.7566 - accuracy: 0.6667 - val_loss: 0.7221 - val_accuracy: 0.6667\n",
            "Epoch 16/30\n",
            "11/11 [==============================] - 0s 6ms/step - loss: 0.7096 - accuracy: 0.6933 - val_loss: 0.6652 - val_accuracy: 0.6800\n",
            "Epoch 17/30\n",
            "11/11 [==============================] - 0s 6ms/step - loss: 0.6725 - accuracy: 0.7467 - val_loss: 0.6591 - val_accuracy: 0.6667\n",
            "Epoch 18/30\n",
            "11/11 [==============================] - 0s 5ms/step - loss: 0.6508 - accuracy: 0.7067 - val_loss: 0.5971 - val_accuracy: 0.6667\n",
            "Epoch 19/30\n",
            "11/11 [==============================] - 0s 5ms/step - loss: 0.6103 - accuracy: 0.6933 - val_loss: 0.5651 - val_accuracy: 0.6800\n",
            "Epoch 20/30\n",
            "11/11 [==============================] - 0s 6ms/step - loss: 0.5772 - accuracy: 0.7467 - val_loss: 0.5383 - val_accuracy: 0.6933\n",
            "Epoch 21/30\n",
            "11/11 [==============================] - 0s 5ms/step - loss: 0.5583 - accuracy: 0.7333 - val_loss: 0.5095 - val_accuracy: 0.8267\n",
            "Epoch 22/30\n",
            "11/11 [==============================] - 0s 7ms/step - loss: 0.5355 - accuracy: 0.7867 - val_loss: 0.5077 - val_accuracy: 0.6800\n",
            "Epoch 23/30\n",
            "11/11 [==============================] - 0s 5ms/step - loss: 0.5129 - accuracy: 0.7067 - val_loss: 0.4718 - val_accuracy: 0.9333\n",
            "Epoch 24/30\n",
            "11/11 [==============================] - 0s 5ms/step - loss: 0.5036 - accuracy: 0.8400 - val_loss: 0.4545 - val_accuracy: 0.8933\n",
            "Epoch 25/30\n",
            "11/11 [==============================] - 0s 6ms/step - loss: 0.4869 - accuracy: 0.8133 - val_loss: 0.4409 - val_accuracy: 0.8667\n",
            "Epoch 26/30\n",
            "11/11 [==============================] - 0s 5ms/step - loss: 0.4704 - accuracy: 0.8533 - val_loss: 0.4643 - val_accuracy: 0.6800\n",
            "Epoch 27/30\n",
            "11/11 [==============================] - 0s 6ms/step - loss: 0.4580 - accuracy: 0.8533 - val_loss: 0.4238 - val_accuracy: 0.7600\n",
            "Epoch 28/30\n",
            "11/11 [==============================] - 0s 6ms/step - loss: 0.4374 - accuracy: 0.8800 - val_loss: 0.4318 - val_accuracy: 0.7200\n",
            "Epoch 29/30\n",
            "11/11 [==============================] - 0s 6ms/step - loss: 0.4376 - accuracy: 0.8000 - val_loss: 0.3903 - val_accuracy: 0.9333\n",
            "Epoch 30/30\n",
            "11/11 [==============================] - 0s 5ms/step - loss: 0.4205 - accuracy: 0.8800 - val_loss: 0.3966 - val_accuracy: 0.8000\n"
          ]
        }
      ]
    },
    {
      "cell_type": "markdown",
      "source": [
        "#7.5 結果の評価"
      ],
      "metadata": {
        "id": "YK9MGnXljsvD"
      }
    },
    {
      "cell_type": "code",
      "source": [
        "dir(training_history)"
      ],
      "metadata": {
        "colab": {
          "base_uri": "https://localhost:8080/"
        },
        "id": "ped-Nq0C8Lev",
        "outputId": "03108030-da2f-4957-f29c-4874d909106f"
      },
      "execution_count": 81,
      "outputs": [
        {
          "output_type": "execute_result",
          "data": {
            "text/plain": [
              "['__class__',\n",
              " '__delattr__',\n",
              " '__dict__',\n",
              " '__dir__',\n",
              " '__doc__',\n",
              " '__eq__',\n",
              " '__format__',\n",
              " '__ge__',\n",
              " '__getattribute__',\n",
              " '__gt__',\n",
              " '__hash__',\n",
              " '__init__',\n",
              " '__init_subclass__',\n",
              " '__le__',\n",
              " '__lt__',\n",
              " '__module__',\n",
              " '__ne__',\n",
              " '__new__',\n",
              " '__reduce__',\n",
              " '__reduce_ex__',\n",
              " '__repr__',\n",
              " '__setattr__',\n",
              " '__sizeof__',\n",
              " '__str__',\n",
              " '__subclasshook__',\n",
              " '__weakref__',\n",
              " '_chief_worker_only',\n",
              " '_implements_predict_batch_hooks',\n",
              " '_implements_test_batch_hooks',\n",
              " '_implements_train_batch_hooks',\n",
              " '_keras_api_names',\n",
              " '_keras_api_names_v1',\n",
              " '_supports_tf_logs',\n",
              " 'epoch',\n",
              " 'history',\n",
              " 'model',\n",
              " 'on_batch_begin',\n",
              " 'on_batch_end',\n",
              " 'on_epoch_begin',\n",
              " 'on_epoch_end',\n",
              " 'on_predict_batch_begin',\n",
              " 'on_predict_batch_end',\n",
              " 'on_predict_begin',\n",
              " 'on_predict_end',\n",
              " 'on_test_batch_begin',\n",
              " 'on_test_batch_end',\n",
              " 'on_test_begin',\n",
              " 'on_test_end',\n",
              " 'on_train_batch_begin',\n",
              " 'on_train_batch_end',\n",
              " 'on_train_begin',\n",
              " 'on_train_end',\n",
              " 'params',\n",
              " 'set_model',\n",
              " 'set_params',\n",
              " 'validation_data']"
            ]
          },
          "metadata": {},
          "execution_count": 81
        }
      ]
    },
    {
      "cell_type": "code",
      "source": [
        "training_history.history"
      ],
      "metadata": {
        "colab": {
          "base_uri": "https://localhost:8080/"
        },
        "id": "342XqdEH9nRe",
        "outputId": "7c7cfabc-3c88-41c1-d8a1-1475b988f7e3"
      },
      "execution_count": 82,
      "outputs": [
        {
          "output_type": "execute_result",
          "data": {
            "text/plain": [
              "{'accuracy': [0.36000001430511475,\n",
              "  0.3466666638851166,\n",
              "  0.3733333349227905,\n",
              "  0.47999998927116394,\n",
              "  0.4000000059604645,\n",
              "  0.4399999976158142,\n",
              "  0.5066666603088379,\n",
              "  0.6399999856948853,\n",
              "  0.6399999856948853,\n",
              "  0.6666666865348816,\n",
              "  0.6399999856948853,\n",
              "  0.6666666865348816,\n",
              "  0.6666666865348816,\n",
              "  0.6666666865348816,\n",
              "  0.6666666865348816,\n",
              "  0.6933333277702332,\n",
              "  0.746666669845581,\n",
              "  0.7066666483879089,\n",
              "  0.6933333277702332,\n",
              "  0.746666669845581,\n",
              "  0.7333333492279053,\n",
              "  0.7866666913032532,\n",
              "  0.7066666483879089,\n",
              "  0.8399999737739563,\n",
              "  0.8133333325386047,\n",
              "  0.8533333539962769,\n",
              "  0.8533333539962769,\n",
              "  0.8799999952316284,\n",
              "  0.800000011920929,\n",
              "  0.8799999952316284],\n",
              " 'loss': [1.1172645092010498,\n",
              "  1.0453605651855469,\n",
              "  1.0528976917266846,\n",
              "  1.032658576965332,\n",
              "  1.0191649198532104,\n",
              "  1.007015347480774,\n",
              "  0.9836027026176453,\n",
              "  0.9609401226043701,\n",
              "  0.9510944485664368,\n",
              "  0.9169059991836548,\n",
              "  0.8985396027565002,\n",
              "  0.8580077290534973,\n",
              "  0.8268815279006958,\n",
              "  0.7881619334220886,\n",
              "  0.7566376328468323,\n",
              "  0.7096070051193237,\n",
              "  0.6725385785102844,\n",
              "  0.650788426399231,\n",
              "  0.6102980971336365,\n",
              "  0.5771997570991516,\n",
              "  0.5583367347717285,\n",
              "  0.5355175733566284,\n",
              "  0.5128908753395081,\n",
              "  0.503612220287323,\n",
              "  0.4869023263454437,\n",
              "  0.4703517556190491,\n",
              "  0.45796698331832886,\n",
              "  0.4373721778392792,\n",
              "  0.43759775161743164,\n",
              "  0.4205300509929657],\n",
              " 'val_accuracy': [0.30666667222976685,\n",
              "  0.3866666555404663,\n",
              "  0.5066666603088379,\n",
              "  0.2933333218097687,\n",
              "  0.6266666650772095,\n",
              "  0.6000000238418579,\n",
              "  0.653333306312561,\n",
              "  0.653333306312561,\n",
              "  0.6666666865348816,\n",
              "  0.653333306312561,\n",
              "  0.6666666865348816,\n",
              "  0.653333306312561,\n",
              "  0.6666666865348816,\n",
              "  0.6666666865348816,\n",
              "  0.6666666865348816,\n",
              "  0.6800000071525574,\n",
              "  0.6666666865348816,\n",
              "  0.6666666865348816,\n",
              "  0.6800000071525574,\n",
              "  0.6933333277702332,\n",
              "  0.8266666531562805,\n",
              "  0.6800000071525574,\n",
              "  0.9333333373069763,\n",
              "  0.8933333158493042,\n",
              "  0.8666666746139526,\n",
              "  0.6800000071525574,\n",
              "  0.7599999904632568,\n",
              "  0.7200000286102295,\n",
              "  0.9333333373069763,\n",
              "  0.800000011920929],\n",
              " 'val_loss': [1.053074598312378,\n",
              "  1.0474350452423096,\n",
              "  1.0372915267944336,\n",
              "  1.0412275791168213,\n",
              "  1.0082229375839233,\n",
              "  0.9969615936279297,\n",
              "  0.9751730561256409,\n",
              "  0.960545539855957,\n",
              "  0.9290211200714111,\n",
              "  0.9323196411132812,\n",
              "  0.8667552471160889,\n",
              "  0.8430362939834595,\n",
              "  0.8032587170600891,\n",
              "  0.7800112962722778,\n",
              "  0.7221458554267883,\n",
              "  0.665191113948822,\n",
              "  0.6590573787689209,\n",
              "  0.5971376299858093,\n",
              "  0.5651479363441467,\n",
              "  0.5383029580116272,\n",
              "  0.5095118284225464,\n",
              "  0.5077416896820068,\n",
              "  0.47175902128219604,\n",
              "  0.45448943972587585,\n",
              "  0.4409289062023163,\n",
              "  0.4642888307571411,\n",
              "  0.423835813999176,\n",
              "  0.43177521228790283,\n",
              "  0.3902606964111328,\n",
              "  0.39655089378356934]}"
            ]
          },
          "metadata": {},
          "execution_count": 82
        }
      ]
    },
    {
      "cell_type": "code",
      "source": [
        "training_history.history.keys()"
      ],
      "metadata": {
        "colab": {
          "base_uri": "https://localhost:8080/"
        },
        "id": "5jnWkIfB_UBx",
        "outputId": "cfb40bd1-09c4-400f-ea84-366a52f88108"
      },
      "execution_count": 83,
      "outputs": [
        {
          "output_type": "execute_result",
          "data": {
            "text/plain": [
              "dict_keys(['loss', 'accuracy', 'val_loss', 'val_accuracy'])"
            ]
          },
          "metadata": {},
          "execution_count": 83
        }
      ]
    },
    {
      "cell_type": "code",
      "source": [
        "print(\"traininig\")\n",
        "print(training_history.history['accuracy'][-1])\n",
        "print(\"validation\")\n",
        "print(training_history.history['val_accuracy'][-1])"
      ],
      "metadata": {
        "colab": {
          "base_uri": "https://localhost:8080/"
        },
        "id": "5IWG7XhmRHZn",
        "outputId": "105b6c54-159c-4c80-e8ae-6ef047a53699"
      },
      "execution_count": 84,
      "outputs": [
        {
          "output_type": "stream",
          "name": "stdout",
          "text": [
            "traininig\n",
            "0.8799999952316284\n",
            "validation\n",
            "0.800000011920929\n"
          ]
        }
      ]
    },
    {
      "cell_type": "code",
      "source": [
        "# 訓練データに対する損失関数のプロット\n",
        "y=training_history.history['loss']\n",
        "x=range(len(y))\n",
        "plt.semilogy(x,y,label=\"loss for training\")\n",
        "\n",
        "# 検証データに対する損失関数のプロット\n",
        "y=training_history.history['val_loss']\n",
        "x=range(len(y))\n",
        "plt.semilogy(x,y,label=\"loss for validation\",alpha=0.5)\n",
        "\n",
        "plt.legend()\n",
        "plt.xlabel(\"Steps\")\n",
        "plt.show()\n",
        "\n",
        "# 訓練データに対する精度のプロット\n",
        "y=training_history.history['accuracy']\n",
        "x=range(len(y))\n",
        "plt.plot(x,y,label=\"accuracy for training\")\n",
        "\n",
        "# 検証データに対する精度のプロット\n",
        "y=training_history.history['val_accuracy']\n",
        "x=range(len(y))\n",
        "plt.plot(x,y,label=\"accuracy for validation\")\n",
        "\n",
        "plt.legend()\n",
        "plt.xlabel(\"Steps\")\n",
        "plt.ylim(0,1.1)\n",
        "plt.show()"
      ],
      "metadata": {
        "id": "ITeHqbx5jx3m",
        "colab": {
          "base_uri": "https://localhost:8080/",
          "height": 541
        },
        "outputId": "f7a1a04b-9b7b-4ef9-d887-3dd261486eaf"
      },
      "execution_count": 85,
      "outputs": [
        {
          "output_type": "display_data",
          "data": {
            "image/png": "[encoded data removed]",
            "text/plain": [
              "<Figure size 432x288 with 1 Axes>"
            ]
          },
          "metadata": {
            "needs_background": "light"
          }
        },
        {
          "output_type": "display_data",
          "data": {
            "image/png": "[encoded data removed]",
            "text/plain": [
              "<Figure size 432x288 with 1 Axes>"
            ]
          },
          "metadata": {
            "needs_background": "light"
          }
        }
      ]
    }
  ]
}