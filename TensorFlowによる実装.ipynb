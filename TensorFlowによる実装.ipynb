{
  "nbformat": 4,
  "nbformat_minor": 0,
  "metadata": {
    "colab": {
      "name": "TensorFlowによる実装.ipynb",
      "provenance": [],
      "collapsed_sections": [],
      "authorship_tag": "ABX9TyPop2CvnMUdh0K0l89W2Qv1",
      "include_colab_link": true
    },
    "kernelspec": {
      "name": "python3",
      "display_name": "Python 3"
    },
    "language_info": {
      "name": "python"
    }
  },
  "cells": [
    {
      "cell_type": "markdown",
      "metadata": {
        "id": "view-in-github",
        "colab_type": "text"
      },
      "source": [
        "<a href=\"https://colab.research.google.com/github/naka-c1024/Iris_Classification_with_TensorFlow/blob/main/TensorFlow%E3%81%AB%E3%82%88%E3%82%8B%E5%AE%9F%E8%A3%85.ipynb\" target=\"_parent\"><img src=\"https://colab.research.google.com/assets/colab-badge.svg\" alt=\"Open In Colab\"/></a>"
      ]
    },
    {
      "cell_type": "markdown",
      "source": [
        "#7.2 データやライブラリのダウンロード"
      ],
      "metadata": {
        "id": "d-TNcMesunm_"
      }
    },
    {
      "cell_type": "code",
      "execution_count": null,
      "metadata": {
        "id": "QvxVvE53aoko"
      },
      "outputs": [],
      "source": [
        "import numpy as np\n",
        "from sklearn.datasets import load_iris\n",
        "iris = load_iris()"
      ]
    },
    {
      "cell_type": "code",
      "source": [
        "list(iris.target_names)"
      ],
      "metadata": {
        "id": "qtipS3NzbFeD"
      },
      "execution_count": null,
      "outputs": []
    },
    {
      "cell_type": "code",
      "source": [
        "#  iris  # アイリス, アヤメという意味\n",
        "# dir(iris)\n",
        "# iris.data\n",
        "print(iris.DESCR)"
      ],
      "metadata": {
        "id": "Tukdyd-cbd0I"
      },
      "execution_count": null,
      "outputs": []
    },
    {
      "cell_type": "code",
      "source": [
        "import tensorflow as tf # 誤植 TensorFlow -> tesorflow\n",
        "from tensorflow import keras # 誤植 TensorFlow -> tesorflow\n",
        "print(tf.__version__)\n",
        "tf.random.set_seed(1)"
      ],
      "metadata": {
        "id": "w82YdfDVcTVr"
      },
      "execution_count": null,
      "outputs": []
    },
    {
      "cell_type": "markdown",
      "source": [
        "#7.3 データの分割とニューラルネットワークの設定"
      ],
      "metadata": {
        "id": "n0GrYya-u4iz"
      }
    },
    {
      "cell_type": "markdown",
      "source": [
        "##7.3.1 データの分割"
      ],
      "metadata": {
        "id": "wpVRUKByvBUB"
      }
    },
    {
      "cell_type": "code",
      "source": [
        "import random"
      ],
      "metadata": {
        "id": "5UHFKhKTvF4V"
      },
      "execution_count": null,
      "outputs": []
    },
    {
      "cell_type": "code",
      "source": [
        "random.seed(12345)\n",
        "Ndata = len(iris.data)  # データの総数を調べている (150個)\n",
        "print(f\"Ndata={Ndata}\")\n",
        "idxr = [k for k in range(Ndata)]\n",
        "print(idxr)  # 0 から 149 まで順番が正しく出ているかチェック\n",
        "random.shuffle(idxr)\n",
        "print(idxr)"
      ],
      "metadata": {
        "id": "0riKXrYzvJQ4"
      },
      "execution_count": null,
      "outputs": []
    },
    {
      "cell_type": "code",
      "source": [
        "Ndata_train=int(Ndata*0.5)  # 分割の割合を指定\n",
        "print(f\"# of training data = {Ndata_train}\")\n",
        "print(f\"# of validation data = {Ndata-Ndata_train}\")\n",
        "train_data = iris.data[idxr[:Ndata_train]]  # 訓練データ\n",
        "train_labels = iris.target[idxr[:Ndata_train]]  # 訓練データの教師ラベル\n",
        "\n",
        "val_data = iris.data[idxr[Ndata_train:]]  # 検証データ\n",
        "val_labels = iris.target[idxr[Ndata_train:]]  # 検証データの教師ラベル"
      ],
      "metadata": {
        "id": "B4gKpxIlv2-g"
      },
      "execution_count": null,
      "outputs": []
    },
    {
      "cell_type": "markdown",
      "source": [
        "##7.3.2 ニューラルネットワークの設計"
      ],
      "metadata": {
        "id": "3v8C8DFtxRdy"
      }
    },
    {
      "cell_type": "code",
      "source": [
        "model = keras.Sequential([\n",
        "    keras.layers.Dense(4, activation='relu'),\n",
        "    keras.layers.Dense(10, activation='relu'),\n",
        "    keras.layers.Dense(3, activation='softmax')\n",
        "])"
      ],
      "metadata": {
        "id": "qJQzdeHnxVxt"
      },
      "execution_count": null,
      "outputs": []
    },
    {
      "cell_type": "markdown",
      "source": [
        "#7.4 学習"
      ],
      "metadata": {
        "id": "7EgVC2eVjdPl"
      }
    },
    {
      "cell_type": "code",
      "source": [
        "model.compile(optimizer='SGD',\n",
        "              loss='sparse_categorical_crossentropy',\n",
        "              metrics=['accuracy'])  # 分類の精度を評価する"
      ],
      "metadata": {
        "id": "lZZbXjCujinj"
      },
      "execution_count": null,
      "outputs": []
    },
    {
      "cell_type": "code",
      "source": [
        "training_history = model.fit(train_data, train_labels,\n",
        "                             validation_data=(val_data, val_labels),\n",
        "                             epochs=20,\n",
        "                             batch_size = Ndata_train//10,\n",
        "                             verbose=1)"
      ],
      "metadata": {
        "id": "IO_9hpAA84cg"
      },
      "execution_count": null,
      "outputs": []
    },
    {
      "cell_type": "markdown",
      "source": [
        "#7.5 結果の評価"
      ],
      "metadata": {
        "id": "YK9MGnXljsvD"
      }
    },
    {
      "cell_type": "code",
      "source": [
        "import matplotlib.pyplot as plt  # 参考書に無かったので追加"
      ],
      "metadata": {
        "id": "80qhZvv-Amdo"
      },
      "execution_count": null,
      "outputs": []
    },
    {
      "cell_type": "code",
      "source": [
        "y=training_history.history['loss']\n",
        "x=range(len(y))\n",
        "plt.semilogy(x,y,label=\"loss for training\")\n",
        "#\n",
        "y=training_history.history['val_loss']\n",
        "x=range(len(y))\n",
        "plt.semilogy(x,y,label=\"loss for validation\",alpha=0.5)\n",
        "#\n",
        "plt.legend()\n",
        "plt.xlabel(\"Steps\")\n",
        "plt.show()\n",
        "# - - - - -\n",
        "y=training_history.history['accuracy']\n",
        "x=range(len(y))\n",
        "plt.plot(x,y,label=\"accuracy for training\")\n",
        "y=training_history.history['val_accuracy']\n",
        "x=range(len(y))\n",
        "plt.plot(x,y,label=\"accuracy for validation\")\n",
        "plt.legend()\n",
        "plt.xlabel(\"Steps\")\n",
        "plt.ylim(0,1.1)\n",
        "plt.show()"
      ],
      "metadata": {
        "id": "ITeHqbx5jx3m"
      },
      "execution_count": null,
      "outputs": []
    }
  ]
}