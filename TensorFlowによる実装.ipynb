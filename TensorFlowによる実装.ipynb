{
  "nbformat": 4,
  "nbformat_minor": 0,
  "metadata": {
    "colab": {
      "name": "TensorFlowによる実装.ipynb",
      "provenance": [],
      "collapsed_sections": [],
      "authorship_tag": "ABX9TyPop2CvnMUdh0K0l89W2Qv1",
      "include_colab_link": true
    },
    "kernelspec": {
      "name": "python3",
      "display_name": "Python 3"
    },
    "language_info": {
      "name": "python"
    }
  },
  "cells": [
    {
      "cell_type": "markdown",
      "metadata": {
        "id": "view-in-github",
        "colab_type": "text"
      },
      "source": [
        "<a href=\"https://colab.research.google.com/github/naka-c1024/Iris_Classification_with_TensorFlow/blob/main/TensorFlow%E3%81%AB%E3%82%88%E3%82%8B%E5%AE%9F%E8%A3%85.ipynb\" target=\"_parent\"><img src=\"https://colab.research.google.com/assets/colab-badge.svg\" alt=\"Open In Colab\"/></a>"
      ]
    },
    {
      "cell_type": "markdown",
      "source": [
        "#7.2 データやライブラリのダウンロード"
      ],
      "metadata": {
        "id": "d-TNcMesunm_"
      }
    },
    {
      "cell_type": "code",
      "execution_count": 1,
      "metadata": {
        "id": "QvxVvE53aoko"
      },
      "outputs": [],
      "source": [
        "import numpy as np\n",
        "from sklearn.datasets import load_iris\n",
        "iris = load_iris()"
      ]
    },
    {
      "cell_type": "code",
      "source": [
        "list(iris.target_names)"
      ],
      "metadata": {
        "id": "qtipS3NzbFeD",
        "colab": {
          "base_uri": "https://localhost:8080/"
        },
        "outputId": "3bbf4b3a-5bd9-4dda-fa1b-c908214208c6"
      },
      "execution_count": 2,
      "outputs": [
        {
          "output_type": "execute_result",
          "data": {
            "text/plain": [
              "['setosa', 'versicolor', 'virginica']"
            ]
          },
          "metadata": {},
          "execution_count": 2
        }
      ]
    },
    {
      "cell_type": "code",
      "source": [
        "#  iris  # アイリス, アヤメという意味\n",
        "# dir(iris)\n",
        "# iris.data\n",
        "print(iris.DESCR)"
      ],
      "metadata": {
        "id": "Tukdyd-cbd0I",
        "colab": {
          "base_uri": "https://localhost:8080/"
        },
        "outputId": "77870a69-a232-490c-aae8-ea26c1648ef5"
      },
      "execution_count": 3,
      "outputs": [
        {
          "output_type": "stream",
          "name": "stdout",
          "text": [
            ".. _iris_dataset:\n",
            "\n",
            "Iris plants dataset\n",
            "--------------------\n",
            "\n",
            "**Data Set Characteristics:**\n",
            "\n",
            "    :Number of Instances: 150 (50 in each of three classes)\n",
            "    :Number of Attributes: 4 numeric, predictive attributes and the class\n",
            "    :Attribute Information:\n",
            "        - sepal length in cm\n",
            "        - sepal width in cm\n",
            "        - petal length in cm\n",
            "        - petal width in cm\n",
            "        - class:\n",
            "                - Iris-Setosa\n",
            "                - Iris-Versicolour\n",
            "                - Iris-Virginica\n",
            "                \n",
            "    :Summary Statistics:\n",
            "\n",
            "    ============== ==== ==== ======= ===== ====================\n",
            "                    Min  Max   Mean    SD   Class Correlation\n",
            "    ============== ==== ==== ======= ===== ====================\n",
            "    sepal length:   4.3  7.9   5.84   0.83    0.7826\n",
            "    sepal width:    2.0  4.4   3.05   0.43   -0.4194\n",
            "    petal length:   1.0  6.9   3.76   1.76    0.9490  (high!)\n",
            "    petal width:    0.1  2.5   1.20   0.76    0.9565  (high!)\n",
            "    ============== ==== ==== ======= ===== ====================\n",
            "\n",
            "    :Missing Attribute Values: None\n",
            "    :Class Distribution: 33.3% for each of 3 classes.\n",
            "    :Creator: R.A. Fisher\n",
            "    :Donor: Michael Marshall (MARSHALL%PLU@io.arc.nasa.gov)\n",
            "    :Date: July, 1988\n",
            "\n",
            "The famous Iris database, first used by Sir R.A. Fisher. The dataset is taken\n",
            "from Fisher's paper. Note that it's the same as in R, but not as in the UCI\n",
            "Machine Learning Repository, which has two wrong data points.\n",
            "\n",
            "This is perhaps the best known database to be found in the\n",
            "pattern recognition literature.  Fisher's paper is a classic in the field and\n",
            "is referenced frequently to this day.  (See Duda & Hart, for example.)  The\n",
            "data set contains 3 classes of 50 instances each, where each class refers to a\n",
            "type of iris plant.  One class is linearly separable from the other 2; the\n",
            "latter are NOT linearly separable from each other.\n",
            "\n",
            ".. topic:: References\n",
            "\n",
            "   - Fisher, R.A. \"The use of multiple measurements in taxonomic problems\"\n",
            "     Annual Eugenics, 7, Part II, 179-188 (1936); also in \"Contributions to\n",
            "     Mathematical Statistics\" (John Wiley, NY, 1950).\n",
            "   - Duda, R.O., & Hart, P.E. (1973) Pattern Classification and Scene Analysis.\n",
            "     (Q327.D83) John Wiley & Sons.  ISBN 0-471-22361-1.  See page 218.\n",
            "   - Dasarathy, B.V. (1980) \"Nosing Around the Neighborhood: A New System\n",
            "     Structure and Classification Rule for Recognition in Partially Exposed\n",
            "     Environments\".  IEEE Transactions on Pattern Analysis and Machine\n",
            "     Intelligence, Vol. PAMI-2, No. 1, 67-71.\n",
            "   - Gates, G.W. (1972) \"The Reduced Nearest Neighbor Rule\".  IEEE Transactions\n",
            "     on Information Theory, May 1972, 431-433.\n",
            "   - See also: 1988 MLC Proceedings, 54-64.  Cheeseman et al\"s AUTOCLASS II\n",
            "     conceptual clustering system finds 3 classes in the data.\n",
            "   - Many, many more ...\n"
          ]
        }
      ]
    },
    {
      "cell_type": "code",
      "source": [
        "import tensorflow as tf # 誤植 TensorFlow -> tesorflow\n",
        "from tensorflow import keras # 誤植 TensorFlow -> tesorflow\n",
        "print(tf.__version__)\n",
        "tf.random.set_seed(1)"
      ],
      "metadata": {
        "id": "w82YdfDVcTVr",
        "colab": {
          "base_uri": "https://localhost:8080/"
        },
        "outputId": "160ebb9d-4d02-4181-f895-b19ad48e6586"
      },
      "execution_count": 4,
      "outputs": [
        {
          "output_type": "stream",
          "name": "stdout",
          "text": [
            "2.7.0\n"
          ]
        }
      ]
    },
    {
      "cell_type": "markdown",
      "source": [
        "#7.3 データの分割とニューラルネットワークの設定"
      ],
      "metadata": {
        "id": "n0GrYya-u4iz"
      }
    },
    {
      "cell_type": "markdown",
      "source": [
        "##7.3.1 データの分割"
      ],
      "metadata": {
        "id": "wpVRUKByvBUB"
      }
    },
    {
      "cell_type": "code",
      "source": [
        "import random"
      ],
      "metadata": {
        "id": "5UHFKhKTvF4V"
      },
      "execution_count": 5,
      "outputs": []
    },
    {
      "cell_type": "code",
      "source": [
        "random.seed(12345)\n",
        "Ndata = len(iris.data)  # データの総数を調べている (150個)\n",
        "print(f\"Ndata={Ndata}\")\n",
        "idxr = [k for k in range(Ndata)]\n",
        "print(idxr)  # 0 から 149 まで順番が正しく出ているかチェック\n",
        "random.shuffle(idxr)\n",
        "print(idxr)"
      ],
      "metadata": {
        "id": "0riKXrYzvJQ4",
        "colab": {
          "base_uri": "https://localhost:8080/"
        },
        "outputId": "7ef05011-3940-4858-c204-0d505b1c8803"
      },
      "execution_count": 6,
      "outputs": [
        {
          "output_type": "stream",
          "name": "stdout",
          "text": [
            "Ndata=150\n",
            "[0, 1, 2, 3, 4, 5, 6, 7, 8, 9, 10, 11, 12, 13, 14, 15, 16, 17, 18, 19, 20, 21, 22, 23, 24, 25, 26, 27, 28, 29, 30, 31, 32, 33, 34, 35, 36, 37, 38, 39, 40, 41, 42, 43, 44, 45, 46, 47, 48, 49, 50, 51, 52, 53, 54, 55, 56, 57, 58, 59, 60, 61, 62, 63, 64, 65, 66, 67, 68, 69, 70, 71, 72, 73, 74, 75, 76, 77, 78, 79, 80, 81, 82, 83, 84, 85, 86, 87, 88, 89, 90, 91, 92, 93, 94, 95, 96, 97, 98, 99, 100, 101, 102, 103, 104, 105, 106, 107, 108, 109, 110, 111, 112, 113, 114, 115, 116, 117, 118, 119, 120, 121, 122, 123, 124, 125, 126, 127, 128, 129, 130, 131, 132, 133, 134, 135, 136, 137, 138, 139, 140, 141, 142, 143, 144, 145, 146, 147, 148, 149]\n",
            "[109, 78, 108, 60, 93, 46, 14, 59, 118, 8, 18, 96, 77, 62, 104, 25, 99, 133, 130, 82, 80, 148, 17, 4, 34, 101, 33, 81, 126, 61, 28, 89, 132, 79, 9, 68, 64, 54, 149, 35, 26, 136, 70, 140, 40, 57, 120, 39, 30, 119, 139, 113, 102, 103, 86, 45, 72, 114, 50, 11, 122, 51, 24, 10, 56, 7, 6, 117, 124, 145, 112, 121, 144, 137, 91, 128, 1, 38, 21, 92, 16, 138, 55, 75, 32, 100, 85, 71, 27, 63, 15, 97, 5, 131, 135, 147, 67, 29, 127, 146, 134, 73, 87, 13, 116, 83, 12, 36, 22, 74, 98, 20, 143, 84, 115, 0, 53, 141, 88, 65, 123, 125, 58, 3, 142, 43, 107, 48, 19, 52, 37, 42, 129, 105, 23, 90, 47, 44, 66, 110, 31, 95, 41, 111, 69, 49, 94, 76, 2, 106]\n"
          ]
        }
      ]
    },
    {
      "cell_type": "code",
      "source": [
        "Ndata_train=int(Ndata*0.5)  # 分割の割合を指定\n",
        "print(f\"# of training data = {Ndata_train}\")\n",
        "print(f\"# of validation data = {Ndata-Ndata_train}\")\n",
        "train_data = iris.data[idxr[:Ndata_train]]  # 訓練データ\n",
        "train_labels = iris.target[idxr[:Ndata_train]]  # 訓練データの教師ラベル\n",
        "\n",
        "val_data = iris.data[idxr[Ndata_train:]]  # 検証データ\n",
        "val_labels = iris.target[idxr[Ndata_train:]]  # 検証データの教師ラベル"
      ],
      "metadata": {
        "id": "B4gKpxIlv2-g",
        "colab": {
          "base_uri": "https://localhost:8080/"
        },
        "outputId": "8db9299d-afab-49bb-be92-087d4b5fd3b7"
      },
      "execution_count": 7,
      "outputs": [
        {
          "output_type": "stream",
          "name": "stdout",
          "text": [
            "# of training data = 75\n",
            "# of validation data = 75\n"
          ]
        }
      ]
    },
    {
      "cell_type": "markdown",
      "source": [
        "##7.3.2 ニューラルネットワークの設計"
      ],
      "metadata": {
        "id": "3v8C8DFtxRdy"
      }
    },
    {
      "cell_type": "code",
      "source": [
        "model = keras.Sequential([\n",
        "    keras.layers.Dense(4, activation='relu'),\n",
        "    keras.layers.Dense(10, activation='relu'),\n",
        "    keras.layers.Dense(3, activation='softmax')\n",
        "])"
      ],
      "metadata": {
        "id": "qJQzdeHnxVxt"
      },
      "execution_count": 8,
      "outputs": []
    },
    {
      "cell_type": "markdown",
      "source": [
        "#7.4 学習"
      ],
      "metadata": {
        "id": "7EgVC2eVjdPl"
      }
    },
    {
      "cell_type": "code",
      "source": [
        "model.compile(optimizer='SGD',\n",
        "              loss='sparse_categorical_crossentropy',\n",
        "              metrics=['accuracy'])  # 分類の精度を評価する"
      ],
      "metadata": {
        "id": "lZZbXjCujinj"
      },
      "execution_count": 9,
      "outputs": []
    },
    {
      "cell_type": "code",
      "source": [
        "training_history = model.fit(train_data, train_labels,\n",
        "                             validation_data=(val_data, val_labels),\n",
        "                             epochs=20,\n",
        "                             batch_size = Ndata_train//10,\n",
        "                             verbose=1)"
      ],
      "metadata": {
        "id": "IO_9hpAA84cg",
        "colab": {
          "base_uri": "https://localhost:8080/"
        },
        "outputId": "fd32650b-50ce-40ff-b786-17b63d5faac7"
      },
      "execution_count": 10,
      "outputs": [
        {
          "output_type": "stream",
          "name": "stdout",
          "text": [
            "Epoch 1/20\n",
            "11/11 [==============================] - 1s 19ms/step - loss: 1.1983 - accuracy: 0.3333 - val_loss: 1.1078 - val_accuracy: 0.2933\n",
            "Epoch 2/20\n",
            "11/11 [==============================] - 0s 5ms/step - loss: 1.0947 - accuracy: 0.3467 - val_loss: 1.0956 - val_accuracy: 0.2933\n",
            "Epoch 3/20\n",
            "11/11 [==============================] - 0s 5ms/step - loss: 1.1330 - accuracy: 0.3200 - val_loss: 1.0970 - val_accuracy: 0.2933\n",
            "Epoch 4/20\n",
            "11/11 [==============================] - 0s 4ms/step - loss: 1.0972 - accuracy: 0.3867 - val_loss: 1.1100 - val_accuracy: 0.2933\n",
            "Epoch 5/20\n",
            "11/11 [==============================] - 0s 5ms/step - loss: 1.1048 - accuracy: 0.3467 - val_loss: 1.0990 - val_accuracy: 0.3333\n",
            "Epoch 6/20\n",
            "11/11 [==============================] - 0s 4ms/step - loss: 1.1050 - accuracy: 0.3467 - val_loss: 1.0897 - val_accuracy: 0.3067\n",
            "Epoch 7/20\n",
            "11/11 [==============================] - 0s 5ms/step - loss: 1.0808 - accuracy: 0.3733 - val_loss: 1.0848 - val_accuracy: 0.2933\n",
            "Epoch 8/20\n",
            "11/11 [==============================] - 0s 4ms/step - loss: 1.0744 - accuracy: 0.3467 - val_loss: 1.0983 - val_accuracy: 0.2933\n",
            "Epoch 9/20\n",
            "11/11 [==============================] - 0s 4ms/step - loss: 1.1004 - accuracy: 0.3200 - val_loss: 1.0864 - val_accuracy: 0.3333\n",
            "Epoch 10/20\n",
            "11/11 [==============================] - 0s 5ms/step - loss: 1.0604 - accuracy: 0.4000 - val_loss: 1.1634 - val_accuracy: 0.2933\n",
            "Epoch 11/20\n",
            "11/11 [==============================] - 0s 5ms/step - loss: 1.0923 - accuracy: 0.3467 - val_loss: 1.0785 - val_accuracy: 0.3333\n",
            "Epoch 12/20\n",
            "11/11 [==============================] - 0s 5ms/step - loss: 1.0794 - accuracy: 0.3467 - val_loss: 1.0887 - val_accuracy: 0.3600\n",
            "Epoch 13/20\n",
            "11/11 [==============================] - 0s 4ms/step - loss: 1.0864 - accuracy: 0.2533 - val_loss: 1.0862 - val_accuracy: 0.2933\n",
            "Epoch 14/20\n",
            "11/11 [==============================] - 0s 4ms/step - loss: 1.0649 - accuracy: 0.3333 - val_loss: 1.1011 - val_accuracy: 0.2933\n",
            "Epoch 15/20\n",
            "11/11 [==============================] - 0s 4ms/step - loss: 1.0710 - accuracy: 0.3600 - val_loss: 1.0816 - val_accuracy: 0.4000\n",
            "Epoch 16/20\n",
            "11/11 [==============================] - 0s 5ms/step - loss: 1.0501 - accuracy: 0.3867 - val_loss: 1.0785 - val_accuracy: 0.2933\n",
            "Epoch 17/20\n",
            "11/11 [==============================] - 0s 3ms/step - loss: 1.0542 - accuracy: 0.3867 - val_loss: 1.1033 - val_accuracy: 0.2933\n",
            "Epoch 18/20\n",
            "11/11 [==============================] - 0s 5ms/step - loss: 1.0674 - accuracy: 0.3600 - val_loss: 1.0560 - val_accuracy: 0.2933\n",
            "Epoch 19/20\n",
            "11/11 [==============================] - 0s 4ms/step - loss: 1.0323 - accuracy: 0.3733 - val_loss: 1.0239 - val_accuracy: 0.2933\n",
            "Epoch 20/20\n",
            "11/11 [==============================] - 0s 5ms/step - loss: 1.0147 - accuracy: 0.4000 - val_loss: 1.0310 - val_accuracy: 0.3333\n"
          ]
        }
      ]
    },
    {
      "cell_type": "markdown",
      "source": [
        "#7.5 結果の評価"
      ],
      "metadata": {
        "id": "YK9MGnXljsvD"
      }
    },
    {
      "cell_type": "code",
      "source": [
        "import matplotlib.pyplot as plt  # 参考書に無かったので追加"
      ],
      "metadata": {
        "id": "80qhZvv-Amdo"
      },
      "execution_count": 11,
      "outputs": []
    },
    {
      "cell_type": "code",
      "source": [
        "y=training_history.history['loss']\n",
        "x=range(len(y))\n",
        "plt.semilogy(x,y,label=\"loss for training\")\n",
        "#\n",
        "y=training_history.history['val_loss']\n",
        "x=range(len(y))\n",
        "plt.semilogy(x,y,label=\"loss for validation\",alpha=0.5)\n",
        "#\n",
        "plt.legend()\n",
        "plt.xlabel(\"Steps\")\n",
        "plt.show()\n",
        "# - - - - -\n",
        "y=training_history.history['accuracy']\n",
        "x=range(len(y))\n",
        "plt.plot(x,y,label=\"accuracy for training\")\n",
        "y=training_history.history['val_accuracy']\n",
        "x=range(len(y))\n",
        "plt.plot(x,y,label=\"accuracy for validation\")\n",
        "plt.legend()\n",
        "plt.xlabel(\"Steps\")\n",
        "plt.ylim(0,1.1)\n",
        "plt.show()"
      ],
      "metadata": {
        "id": "ITeHqbx5jx3m",
        "colab": {
          "base_uri": "https://localhost:8080/",
          "height": 541
        },
        "outputId": "28ddbf87-c0a9-49d0-91f7-57c46e48cc23"
      },
      "execution_count": 12,
      "outputs": [
        {
          "output_type": "display_data",
          "data": {
            "image/png": "[encoded data removed]",
            "text/plain": [
              "<Figure size 432x288 with 1 Axes>"
            ]
          },
          "metadata": {
            "needs_background": "light"
          }
        },
        {
          "output_type": "display_data",
          "data": {
            "image/png": "[encoded data removed]",
            "text/plain": [
              "<Figure size 432x288 with 1 Axes>"
            ]
          },
          "metadata": {
            "needs_background": "light"
          }
        }
      ]
    }
  ]
}